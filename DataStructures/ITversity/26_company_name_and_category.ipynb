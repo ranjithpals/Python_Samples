{
 "cells": [
  {
   "cell_type": "markdown",
   "id": "bddfae12",
   "metadata": {},
   "source": [
    "## Get Company Count per Sector\n",
    "\n",
    "Develop the logic to get company count per sector.\n",
    "* The scanerio should be solved by using functions such as `map` and `filter` etc.\n",
    "* The input data is present in the CSV file named **data/company_financial/company_financial_data.csv**.\n",
    "* The output should be in form of **list of dicts**.\n",
    "* The header record should not be part of the **list of dicts**. The keys of each dict should be **Sector** and **CompanyCount**.\n",
    "* The output should contain name of the companies and their respective sectors.\n",
    "* The data should be sorted in descending order by the **CompanyCount**.\n",
    "\n",
    "**Restriction: The solution for the problem should not contain the loops. Use functions such as `map`, `filter`, etc. If you want you can also use `csv` module.**"
   ]
  },
  {
   "cell_type": "markdown",
   "id": "3d89ea64",
   "metadata": {},
   "source": [
    "### Step 1: Preview the data\n",
    "\n",
    "Let us first preview the data."
   ]
  },
  {
   "cell_type": "code",
   "execution_count": 98,
   "id": "ba4b793e",
   "metadata": {},
   "outputs": [
    {
     "name": "stdout",
     "output_type": "stream",
     "text": [
      "-rw-r--r-- 1 t0000113 students 849 Jul 26 11:14 data/company_financial/company_financial_data.csv\n"
     ]
    }
   ],
   "source": [
    "# List the file\n",
    "!ls -ltr data/company_financial/company_financial_data.csv"
   ]
  },
  {
   "cell_type": "code",
   "execution_count": 99,
   "id": "47b5bc96",
   "metadata": {},
   "outputs": [
    {
     "name": "stdout",
     "output_type": "stream",
     "text": [
      "21 data/company_financial/company_financial_data.csv\n"
     ]
    }
   ],
   "source": [
    "# Number of lines in the file\n",
    "!wc -l data/company_financial/company_financial_data.csv"
   ]
  },
  {
   "cell_type": "code",
   "execution_count": 100,
   "id": "4c43d8e7",
   "metadata": {},
   "outputs": [
    {
     "name": "stdout",
     "output_type": "stream",
     "text": [
      "Name,Sector,Price,Dividend,EarningsPerShare\n",
      "Accenture,IT,222.89,2.33,7.92\n",
      "Apple,IT,155.15,1.57,9.2\n",
      "Adobe Systems Inc,IT,185.16,0,3.39\n",
      "Alphabet,IT,1007.71,0,22.27\n",
      "Bank of America Corp,Finacials,29.74,1.53,1.55\n",
      "Biogen Inc,Health Care,311.79,0,11.94\n",
      "Campbell Soup,Consumer Staples,44.83,3.12,2.89\n",
      "Dr Pepper Snapple Group,Consumer Staples,116.93,1.96,4.54\n",
      "ebay Inc,IT,41.02,0,-1.07\n"
     ]
    }
   ],
   "source": [
    "# Check the head of the file to get the column names\n",
    "!head data/company_financial/company_financial_data.csv"
   ]
  },
  {
   "cell_type": "markdown",
   "id": "bddd8e93",
   "metadata": {},
   "source": [
    "### Step 2: Provide the solution\n",
    "\n",
    "Now come up with the solution by developing the required logic. Once the function is developed, go to the next step to take care of the validation."
   ]
  },
  {
   "cell_type": "code",
   "execution_count": 102,
   "id": "62e5630c",
   "metadata": {},
   "outputs": [],
   "source": [
    "import csv\n",
    "from itertools import groupby\n",
    "from functools import reduce\n",
    "from collections import Counter\n",
    "def get_company_count_per_sector(path):\n",
    "    # Develop the logic here\n",
    "    with open(path, 'r') as f:\n",
    "        file = csv.reader(f, delimiter=',',)\n",
    "        next(file, None)\n",
    "        # Using Counter\n",
    "        mapped = map(lambda x: x[1], file)\n",
    "        map_aggr = Counter(mapped)\n",
    "        agg_grp = [{'Sector': k, 'CompanyCount': v} for k, v in map_aggr.items()]\n",
    "        # using Map, Sort, Groupby\n",
    "        #mapped = map(lambda x: (x[1], 1), file)\n",
    "        #sorted_map = sorted(mapped, key=lambda x: x[0])\n",
    "        #map_grp = groupby(sorted_map, key=lambda x: x[0])\n",
    "        #agg_grp = [{'Sector':k, 'CompanyCount': sum([i[1] for i in v])} for k, v in map_grp]\n",
    "        sorted_agg_grp = sorted(agg_grp, key=lambda x: x['CompanyCount'], reverse=True)\n",
    "        company_count_per_sector = list(sorted_agg_grp)\n",
    "    return company_count_per_sector"
   ]
  },
  {
   "cell_type": "markdown",
   "id": "6b0e9548",
   "metadata": {},
   "source": [
    "### Step 3: Validate the function\n",
    "\n",
    "Let us validate the function by running below cells.\n",
    "\n",
    "* Here is the expected output.\n",
    "\n",
    "```python\n",
    "[{'Sector': 'IT', 'CompanyCount': 9},\n",
    " {'Sector': 'Consumer Products', 'CompanyCount': 4},\n",
    " {'Sector': 'Consumer Staples', 'CompanyCount': 2},\n",
    " {'Sector': 'Finacials', 'CompanyCount': 2},\n",
    " {'Sector': 'Health Care', 'CompanyCount': 2},\n",
    " {'Sector': 'Industrials', 'CompanyCount': 1}]\n",
    "```"
   ]
  },
  {
   "cell_type": "code",
   "execution_count": 103,
   "id": "6eb06e5b",
   "metadata": {},
   "outputs": [
    {
     "data": {
      "text/plain": [
       "[{'Sector': 'IT', 'CompanyCount': 9},\n",
       " {'Sector': 'Consumer Products', 'CompanyCount': 4},\n",
       " {'Sector': 'Finacials', 'CompanyCount': 2},\n",
       " {'Sector': 'Health Care', 'CompanyCount': 2},\n",
       " {'Sector': 'Consumer Staples', 'CompanyCount': 2},\n",
       " {'Sector': 'Industrials', 'CompanyCount': 1}]"
      ]
     },
     "execution_count": 103,
     "metadata": {},
     "output_type": "execute_result"
    }
   ],
   "source": [
    "company_count_per_sector = get_company_count_per_sector('data/company_financial/company_financial_data.csv')\n",
    "company_count_per_sector"
   ]
  },
  {
   "cell_type": "code",
   "execution_count": 91,
   "id": "c39f44ba",
   "metadata": {},
   "outputs": [
    {
     "data": {
      "text/plain": [
       "list"
      ]
     },
     "execution_count": 91,
     "metadata": {},
     "output_type": "execute_result"
    }
   ],
   "source": [
    "type(company_count_per_sector) # list"
   ]
  },
  {
   "cell_type": "code",
   "execution_count": 92,
   "id": "416eb54a",
   "metadata": {},
   "outputs": [
    {
     "data": {
      "text/plain": [
       "6"
      ]
     },
     "execution_count": 92,
     "metadata": {},
     "output_type": "execute_result"
    }
   ],
   "source": [
    "len(company_count_per_sector) # 6"
   ]
  },
  {
   "cell_type": "code",
   "execution_count": 93,
   "id": "1d740f5a",
   "metadata": {},
   "outputs": [
    {
     "data": {
      "text/plain": [
       "{'Sector': 'IT', 'CompanyCount': 9}"
      ]
     },
     "execution_count": 93,
     "metadata": {},
     "output_type": "execute_result"
    }
   ],
   "source": [
    "company_count_per_sector[0] # {'Sector': 'IT', 'CompanyCount': 9}"
   ]
  },
  {
   "cell_type": "code",
   "execution_count": 94,
   "id": "9e466d7a",
   "metadata": {},
   "outputs": [
    {
     "data": {
      "text/plain": [
       "dict"
      ]
     },
     "execution_count": 94,
     "metadata": {},
     "output_type": "execute_result"
    }
   ],
   "source": [
    "type(company_count_per_sector[0]) # dict"
   ]
  },
  {
   "cell_type": "code",
   "execution_count": null,
   "id": "284f6ce3-a082-40c8-b86d-c2bce2f22d7d",
   "metadata": {},
   "outputs": [],
   "source": []
  }
 ],
 "metadata": {
  "kernelspec": {
   "display_name": "Python 3",
   "language": "python",
   "name": "python3"
  },
  "language_info": {
   "codemirror_mode": {
    "name": "ipython",
    "version": 3
   },
   "file_extension": ".py",
   "mimetype": "text/x-python",
   "name": "python",
   "nbconvert_exporter": "python",
   "pygments_lexer": "ipython3",
   "version": "3.7.10"
  }
 },
 "nbformat": 4,
 "nbformat_minor": 5
}
