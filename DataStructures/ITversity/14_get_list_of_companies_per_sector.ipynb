{
 "cells": [
  {
   "cell_type": "markdown",
   "id": "23da7a58-f83d-4690-abbe-6f382ad89969",
   "metadata": {},
   "source": [
    "## Get list of companies per sector\n",
    "\n",
    "Develop the function to get the company from each sector from the dictionary containing name and it's corresponding sector.\n",
    "* This scanerio can be solved by the help of conventional loops or itertools.\n",
    "* The input dictionary contains the name of company and it's sector.\n",
    "* The output dictionary should contain sector as key and companies per sector as it's values. The company     names should as part of a list with sector as key."
   ]
  },
  {
   "cell_type": "code",
   "execution_count": 3,
   "id": "3164cad9",
   "metadata": {},
   "outputs": [],
   "source": [
    "companies = {\n",
    "    'Accenture': 'IT',\n",
    "    'Apple': 'IT',\n",
    "    'Adobe Systems Inc': 'IT',\n",
    "    'Alphabet': 'IT',\n",
    "    'Bank of America Corp': 'Financials',\n",
    "    'Biogen Inc': 'Health Care',\n",
    "    'Campbell Soup': 'Consumer Staples',\n",
    "    'Dr Pepper Snapple Group': 'Consumer Staples',\n",
    "    'ebay Inc': 'IT',\n",
    "    'FedEx Corporation': 'Industrials',\n",
    "    'Ford Motors': 'Consumer Products',\n",
    "    'General Motors': 'Consumer Products',\n",
    "    'Harley-Davidson': 'Consumer Products',\n",
    "    'Hewlett Packard Enterprise': 'IT',\n",
    "    'Intel Corp': 'IT',\n",
    "    'JP Morgan': 'Financials',\n",
    "    'Johnson & Johnson': 'Health Care',\n",
    "    'Microsft Corp': 'IT',\n",
    "    'Netflix Inc': 'IT',\n",
    "    'Nike': 'Consumer Products'}"
   ]
  },
  {
   "cell_type": "markdown",
   "id": "d564ff25",
   "metadata": {},
   "source": [
    "### Step 1: Preview the data\n",
    "\n",
    "Let us first preview the data."
   ]
  },
  {
   "cell_type": "code",
   "execution_count": 4,
   "id": "30320b24",
   "metadata": {},
   "outputs": [
    {
     "data": {
      "text/plain": [
       "{'Accenture': 'IT',\n",
       " 'Apple': 'IT',\n",
       " 'Adobe Systems Inc': 'IT',\n",
       " 'Alphabet': 'IT',\n",
       " 'Bank of America Corp': 'Financials',\n",
       " 'Biogen Inc': 'Health Care',\n",
       " 'Campbell Soup': 'Consumer Staples',\n",
       " 'Dr Pepper Snapple Group': 'Consumer Staples',\n",
       " 'ebay Inc': 'IT',\n",
       " 'FedEx Corporation': 'Industrials',\n",
       " 'Ford Motors': 'Consumer Products',\n",
       " 'General Motors': 'Consumer Products',\n",
       " 'Harley-Davidson': 'Consumer Products',\n",
       " 'Hewlett Packard Enterprise': 'IT',\n",
       " 'Intel Corp': 'IT',\n",
       " 'JP Morgan': 'Financials',\n",
       " 'Johnson & Johnson': 'Health Care',\n",
       " 'Microsft Corp': 'IT',\n",
       " 'Netflix Inc': 'IT',\n",
       " 'Nike': 'Consumer Products'}"
      ]
     },
     "execution_count": 4,
     "metadata": {},
     "output_type": "execute_result"
    }
   ],
   "source": [
    "companies"
   ]
  },
  {
   "cell_type": "code",
   "execution_count": 5,
   "id": "fceab40c",
   "metadata": {},
   "outputs": [
    {
     "data": {
      "text/plain": [
       "dict"
      ]
     },
     "execution_count": 5,
     "metadata": {},
     "output_type": "execute_result"
    }
   ],
   "source": [
    "type(companies)"
   ]
  },
  {
   "cell_type": "code",
   "execution_count": 6,
   "id": "423e9d55",
   "metadata": {},
   "outputs": [
    {
     "data": {
      "text/plain": [
       "20"
      ]
     },
     "execution_count": 6,
     "metadata": {},
     "output_type": "execute_result"
    }
   ],
   "source": [
    "len(companies)"
   ]
  },
  {
   "cell_type": "markdown",
   "id": "a3b9eb55",
   "metadata": {},
   "source": [
    "### Step 2: Provide the solution\n",
    "\n",
    "Now come up with the solution by developing the required logic. Once the function is developed, go to the next step to take care of the validation."
   ]
  },
  {
   "cell_type": "code",
   "execution_count": 41,
   "id": "03bebe8a",
   "metadata": {},
   "outputs": [],
   "source": [
    "from itertools import groupby\n",
    "from operator import itemgetter\n",
    "from collections import defaultdict\n",
    "def get_companies_per_sector(companies):\n",
    "    # Develop your logic here\n",
    "    companies_per_sector = defaultdict(list)\n",
    "    sorted_input = sorted(companies.items(), key=lambda x: x[1])\n",
    "    for k, v in groupby(sorted_input, key=itemgetter(1)):\n",
    "        companies_per_sector[k] = [i[0] for i in v]\n",
    "    return dict(companies_per_sector)"
   ]
  },
  {
   "cell_type": "markdown",
   "id": "dfcd2376",
   "metadata": {},
   "source": [
    "### Step 3: Validate the function\n",
    "\n",
    "Let us validate the function by running below cells.\n",
    "* Here is the expected output.\n",
    "\n",
    "```python\n",
    "{'Consumer Products': ['Ford Motors', 'General Motors', 'Harley-Davidson', 'Nike'],\n",
    "'Consumer Staples': ['Campbell Soup', 'Dr Pepper Snapple Group'],\n",
    "'Financials': [ 'Bank of America Corp', 'JP Morgan'],\n",
    "'Health Care': ['Biogen Inc', 'Johnson & Johnson'],\n",
    "'Industrials': [ 'FedEx Corporation'],\n",
    "'IT': ['Accenture', 'Apple', 'Adobe Systems Inc', 'Alphabet', 'ebay Inc', 'Hewlett Packard Enterprise', 'Intel Corp', 'Microsft Corp', 'Netflix Inc']}\n",
    "```"
   ]
  },
  {
   "cell_type": "code",
   "execution_count": 42,
   "id": "d77c010d",
   "metadata": {},
   "outputs": [
    {
     "data": {
      "text/plain": [
       "{'Consumer Products': ['Ford Motors',\n",
       "  'General Motors',\n",
       "  'Harley-Davidson',\n",
       "  'Nike'],\n",
       " 'Consumer Staples': ['Campbell Soup', 'Dr Pepper Snapple Group'],\n",
       " 'Financials': ['Bank of America Corp', 'JP Morgan'],\n",
       " 'Health Care': ['Biogen Inc', 'Johnson & Johnson'],\n",
       " 'IT': ['Accenture',\n",
       "  'Apple',\n",
       "  'Adobe Systems Inc',\n",
       "  'Alphabet',\n",
       "  'ebay Inc',\n",
       "  'Hewlett Packard Enterprise',\n",
       "  'Intel Corp',\n",
       "  'Microsft Corp',\n",
       "  'Netflix Inc'],\n",
       " 'Industrials': ['FedEx Corporation']}"
      ]
     },
     "execution_count": 42,
     "metadata": {},
     "output_type": "execute_result"
    }
   ],
   "source": [
    "get_companies_per_sector(companies)"
   ]
  },
  {
   "cell_type": "code",
   "execution_count": null,
   "id": "3d687dc0",
   "metadata": {},
   "outputs": [],
   "source": []
  }
 ],
 "metadata": {
  "kernelspec": {
   "display_name": "Python 3",
   "language": "python",
   "name": "python3"
  },
  "language_info": {
   "codemirror_mode": {
    "name": "ipython",
    "version": 3
   },
   "file_extension": ".py",
   "mimetype": "text/x-python",
   "name": "python",
   "nbconvert_exporter": "python",
   "pygments_lexer": "ipython3",
   "version": "3.7.10"
  }
 },
 "nbformat": 4,
 "nbformat_minor": 5
}
