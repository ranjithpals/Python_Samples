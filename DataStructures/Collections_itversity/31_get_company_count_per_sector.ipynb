{
 "cells": [
  {
   "cell_type": "markdown",
   "id": "ee0f4539",
   "metadata": {},
   "source": [
    "## Get Company Name and Sector\n",
    "\n",
    "Develop the logic to get name of companies and their respective sectors in the form of list of dicts.\n",
    "* The scanerio should be solved by using functions such as `map` and `filter` etc.\n",
    "* The input data is present in the CSV file named **data/company_financial/company_financial_data.csv**.\n",
    "* The output should be in form of **list of dicts**.\n",
    "* The header record should not be part of the **list of dicts**\n",
    "* The logic should pick the keys in dicts from the header of the file. The header of the file contains the column names.\n",
    "* The output should contain name of the companies and their respective sectors.\n",
    "* The data should be sorted in ascending order by the sector and then by case insensitive name.\n",
    "\n",
    "**Restriction: The solution for the problem should not contain the loops. Use functions such as `map`, `filter`, etc. If you want you can also use `csv` module.**"
   ]
  },
  {
   "cell_type": "markdown",
   "id": "bc02920e",
   "metadata": {},
   "source": [
    "### Step 1: Preview the data\n",
    "\n",
    "Let us first preview the data."
   ]
  },
  {
   "cell_type": "code",
   "execution_count": 1,
   "id": "8b3dbe64",
   "metadata": {},
   "outputs": [
    {
     "name": "stdout",
     "output_type": "stream",
     "text": [
      "-rw-r--r-- 1 t0000113 students 849 Jul 26 11:14 data/company_financial/company_financial_data.csv\n"
     ]
    }
   ],
   "source": [
    "# List the file\n",
    "!ls -ltr data/company_financial/company_financial_data.csv"
   ]
  },
  {
   "cell_type": "code",
   "execution_count": 2,
   "id": "41924403",
   "metadata": {},
   "outputs": [
    {
     "name": "stdout",
     "output_type": "stream",
     "text": [
      "21 data/company_financial/company_financial_data.csv\n"
     ]
    }
   ],
   "source": [
    "# Number of lines in the file\n",
    "!wc -l data/company_financial/company_financial_data.csv"
   ]
  },
  {
   "cell_type": "code",
   "execution_count": 3,
   "id": "160a27f4",
   "metadata": {},
   "outputs": [
    {
     "name": "stdout",
     "output_type": "stream",
     "text": [
      "Name,Sector,Price,Dividend,EarningsPerShare\n",
      "Accenture,IT,222.89,2.33,7.92\n",
      "Apple,IT,155.15,1.57,9.2\n",
      "Adobe Systems Inc,IT,185.16,0,3.39\n",
      "Alphabet,IT,1007.71,0,22.27\n",
      "Bank of America Corp,Finacials,29.74,1.53,1.55\n",
      "Biogen Inc,Health Care,311.79,0,11.94\n",
      "Campbell Soup,Consumer Staples,44.83,3.12,2.89\n",
      "Dr Pepper Snapple Group,Consumer Staples,116.93,1.96,4.54\n",
      "ebay Inc,IT,41.02,0,-1.07\n"
     ]
    }
   ],
   "source": [
    "# Check the head of the file to get the column names\n",
    "!head data/company_financial/company_financial_data.csv"
   ]
  },
  {
   "cell_type": "markdown",
   "id": "b9fb90a0",
   "metadata": {},
   "source": [
    "### Step 2: Provide the solution\n",
    "\n",
    "Now come up with the solution by developing the required logic. Once the function is developed, go to the next step to take care of the validation."
   ]
  },
  {
   "cell_type": "code",
   "execution_count": 8,
   "id": "4506ca9d",
   "metadata": {},
   "outputs": [],
   "source": [
    "import csv\n",
    "def get_name_and_category(path):\n",
    "    # Develop the logic here\n",
    "    with open(path, 'r') as f:\n",
    "        csv_read = csv.reader(f, delimiter=',')\n",
    "        #Read the first line\n",
    "        header = next(csv_read)\n",
    "        name, sector = header[0], header[1]\n",
    "        comp_dict = map(lambda x: {name: x[0], sector:x[1]}, csv_read)\n",
    "        companies = sorted(comp_dict, key=lambda x: x[sector])\n",
    "    return companies"
   ]
  },
  {
   "cell_type": "markdown",
   "id": "9cb188c6",
   "metadata": {},
   "source": [
    "### Step 3: Validate the function\n",
    "\n",
    "Let us validate the function by running below cells.\n",
    "\n",
    "* Here is the expected output.\n",
    "\n",
    "```python\n",
    "[{'Name': 'Ford Motors', 'Sector': 'Consumer Products'},\n",
    " {'Name': 'General Motors', 'Sector': 'Consumer Products'},\n",
    " {'Name': 'Harley-Davidson', 'Sector': 'Consumer Products'},\n",
    " {'Name': 'Nike', 'Sector': 'Consumer Products'},\n",
    " {'Name': 'Campbell Soup', 'Sector': 'Consumer Staples'},\n",
    " {'Name': 'Dr Pepper Snapple Group', 'Sector': 'Consumer Staples'},\n",
    " {'Name': 'Bank of America Corp', 'Sector': 'Finacials'},\n",
    " {'Name': 'JP Morgan', 'Sector': 'Finacials'},\n",
    " {'Name': 'Biogen Inc', 'Sector': 'Health Care'},\n",
    " {'Name': 'Johnson & Johnson', 'Sector': 'Health Care'},\n",
    " {'Name': 'Accenture', 'Sector': 'IT'},\n",
    " {'Name': 'Adobe Systems Inc', 'Sector': 'IT'},\n",
    " {'Name': 'Alphabet', 'Sector': 'IT'},\n",
    " {'Name': 'Apple', 'Sector': 'IT'},\n",
    " {'Name': 'ebay Inc', 'Sector': 'IT'},\n",
    " {'Name': 'Hewlett Packard Enterprise', 'Sector': 'IT'},\n",
    " {'Name': 'Intel Corp', 'Sector': 'IT'},\n",
    " {'Name': 'Microsoft Corp', 'Sector': 'IT'},\n",
    " {'Name': 'Netflix Inc', 'Sector': 'IT'},\n",
    " {'Name': 'FedEx Corporation', 'Sector': 'Industrials'}]\n",
    "```"
   ]
  },
  {
   "cell_type": "code",
   "execution_count": 9,
   "id": "0069318f",
   "metadata": {},
   "outputs": [
    {
     "data": {
      "text/plain": [
       "[{'Name': 'Ford Motors', 'Sector': 'Consumer Products'},\n",
       " {'Name': 'General Motors', 'Sector': 'Consumer Products'},\n",
       " {'Name': 'Harley-Davidson', 'Sector': 'Consumer Products'},\n",
       " {'Name': 'Nike', 'Sector': 'Consumer Products'},\n",
       " {'Name': 'Campbell Soup', 'Sector': 'Consumer Staples'},\n",
       " {'Name': 'Dr Pepper Snapple Group', 'Sector': 'Consumer Staples'},\n",
       " {'Name': 'Bank of America Corp', 'Sector': 'Finacials'},\n",
       " {'Name': 'JP Morgan', 'Sector': 'Finacials'},\n",
       " {'Name': 'Biogen Inc', 'Sector': 'Health Care'},\n",
       " {'Name': 'Johnson & Johnson', 'Sector': 'Health Care'},\n",
       " {'Name': 'Accenture', 'Sector': 'IT'},\n",
       " {'Name': 'Apple', 'Sector': 'IT'},\n",
       " {'Name': 'Adobe Systems Inc', 'Sector': 'IT'},\n",
       " {'Name': 'Alphabet', 'Sector': 'IT'},\n",
       " {'Name': 'ebay Inc', 'Sector': 'IT'},\n",
       " {'Name': 'Hewlett Packard Enterprise', 'Sector': 'IT'},\n",
       " {'Name': 'Intel Corp', 'Sector': 'IT'},\n",
       " {'Name': 'Microsoft Corp', 'Sector': 'IT'},\n",
       " {'Name': 'Netflix Inc', 'Sector': 'IT'},\n",
       " {'Name': 'FedEx Corporation', 'Sector': 'Industrials'}]"
      ]
     },
     "execution_count": 9,
     "metadata": {},
     "output_type": "execute_result"
    }
   ],
   "source": [
    "companies = get_name_and_category('data/company_financial/company_financial_data.csv')\n",
    "companies"
   ]
  },
  {
   "cell_type": "code",
   "execution_count": 10,
   "id": "d6807918",
   "metadata": {},
   "outputs": [
    {
     "data": {
      "text/plain": [
       "list"
      ]
     },
     "execution_count": 10,
     "metadata": {},
     "output_type": "execute_result"
    }
   ],
   "source": [
    "type(companies) # list"
   ]
  },
  {
   "cell_type": "code",
   "execution_count": 11,
   "id": "27cfd5d3",
   "metadata": {},
   "outputs": [
    {
     "data": {
      "text/plain": [
       "20"
      ]
     },
     "execution_count": 11,
     "metadata": {},
     "output_type": "execute_result"
    }
   ],
   "source": [
    "len(companies) # 20"
   ]
  },
  {
   "cell_type": "code",
   "execution_count": 12,
   "id": "1b8d1e43",
   "metadata": {},
   "outputs": [
    {
     "data": {
      "text/plain": [
       "{'Name': 'Ford Motors', 'Sector': 'Consumer Products'}"
      ]
     },
     "execution_count": 12,
     "metadata": {},
     "output_type": "execute_result"
    }
   ],
   "source": [
    "companies[0] # {'Name': 'Ford Motors', 'Sector': 'Consumer Products'}"
   ]
  },
  {
   "cell_type": "code",
   "execution_count": 13,
   "id": "4a83acd6",
   "metadata": {},
   "outputs": [
    {
     "data": {
      "text/plain": [
       "dict"
      ]
     },
     "execution_count": 13,
     "metadata": {},
     "output_type": "execute_result"
    }
   ],
   "source": [
    "type(companies[0]) # dict"
   ]
  },
  {
   "cell_type": "code",
   "execution_count": null,
   "id": "848ec9b7-7dcf-4137-9dbb-4d511f6117bc",
   "metadata": {},
   "outputs": [],
   "source": []
  }
 ],
 "metadata": {
  "kernelspec": {
   "display_name": "Python 3",
   "language": "python",
   "name": "python3"
  },
  "language_info": {
   "codemirror_mode": {
    "name": "ipython",
    "version": 3
   },
   "file_extension": ".py",
   "mimetype": "text/x-python",
   "name": "python",
   "nbconvert_exporter": "python",
   "pygments_lexer": "ipython3",
   "version": "3.7.10"
  }
 },
 "nbformat": 4,
 "nbformat_minor": 5
}
