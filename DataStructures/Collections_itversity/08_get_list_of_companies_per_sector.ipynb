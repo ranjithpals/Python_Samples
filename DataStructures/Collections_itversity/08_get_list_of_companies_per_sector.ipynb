{
 "cells": [
  {
   "cell_type": "markdown",
   "id": "0b25db4a",
   "metadata": {},
   "source": [
    "## Get list of companies per sector\n",
    "\n",
    "Develop the function to get the company from each sector from the dictionary containing name and it's corresponding sector.\n",
    "* This scanerio can be solved by the help of conventional loops or itertools.\n",
    "* The input dictionary contains the name of company and it's sector.\n",
    "* The output dictionary should contain sector as key and companies per sector as it's values. The company     names should as part of a list with sector as key."
   ]
  },
  {
   "cell_type": "code",
   "execution_count": 7,
   "id": "bb933d52",
   "metadata": {},
   "outputs": [],
   "source": [
    "top_companies={\n",
    "    'Accenture': 'IT',\n",
    "    'Apple': 'IT',\n",
    "    'Adobe Systems Inc': 'IT',\n",
    "    'Alphabet': 'IT',\n",
    "    'Bank of America Corp': 'Financials',\n",
    "    'Biogen Inc': 'Health Care',\n",
    "    'Campbell Soup': 'Consumer Staples',\n",
    "    'Dr Pepper Snapple Group': 'Consumer Staples',\n",
    "    'ebay Inc': 'IT',\n",
    "    'FedEx Corporation': 'Industrials',\n",
    "    'Ford Motors': 'Consumer Products',\n",
    "    'General Motors': 'Consumer Products',\n",
    "    'Harley-Davidson': 'Consumer Products',\n",
    "    'Hewlett Packard Enterprise': 'IT',\n",
    "    'Intel Corp': 'IT',\n",
    "    'JP Morgan': 'Financials',\n",
    "    'Johnson & Johnson': 'Health Care',\n",
    "    'Microsft Corp': 'IT',\n",
    "    'Netflix Inc': 'IT',\n",
    "    'Nike': 'Consumer Products'}"
   ]
  },
  {
   "cell_type": "code",
   "execution_count": 12,
   "id": "8bb933e6",
   "metadata": {},
   "outputs": [],
   "source": [
    "from collections import defaultdict\n",
    "def get_companies_per_sector(top_companies):\n",
    "    # Develop your logic here\n",
    "    companies_per_sector = defaultdict(list)\n",
    "    for company, sector in top_companies.items():\n",
    "        companies_per_sector[sector].append(company)\n",
    "    return companies_per_sector"
   ]
  },
  {
   "cell_type": "markdown",
   "id": "f4e5dfd5",
   "metadata": {},
   "source": [
    "* Here is the expected output when you run the below cell.\n",
    "\n",
    "```python\n",
    "{'Consumer Products': ['Ford Motors', 'General Motors', 'Harley-Davidson', 'Nike'],\n",
    "'Consumer Staples': ['Campbell Soup', 'Dr Pepper Snapple Group'],\n",
    "'Financials': [ 'Bank of America Corp', 'JP Morgan'],\n",
    "'Health Care': ['Biogen Inc', 'Johnson & Johnson'],\n",
    "'Industrials': [ 'FedEx Corporation'],\n",
    "'IT': ['Accenture', 'Apple', 'Adobe Systems Inc', 'Alphabet', 'ebay Inc', 'Hewlett Packard Enterprise', 'Intel Corp', 'Microsft Corp', 'Netflix Inc']}\n",
    "```"
   ]
  },
  {
   "cell_type": "code",
   "execution_count": 13,
   "id": "b2152eb2",
   "metadata": {},
   "outputs": [
    {
     "data": {
      "text/plain": [
       "defaultdict(list,\n",
       "            {'IT': ['Accenture',\n",
       "              'Apple',\n",
       "              'Adobe Systems Inc',\n",
       "              'Alphabet',\n",
       "              'ebay Inc',\n",
       "              'Hewlett Packard Enterprise',\n",
       "              'Intel Corp',\n",
       "              'Microsft Corp',\n",
       "              'Netflix Inc'],\n",
       "             'Financials': ['Bank of America Corp', 'JP Morgan'],\n",
       "             'Health Care': ['Biogen Inc', 'Johnson & Johnson'],\n",
       "             'Consumer Staples': ['Campbell Soup', 'Dr Pepper Snapple Group'],\n",
       "             'Industrials': ['FedEx Corporation'],\n",
       "             'Consumer Products': ['Ford Motors',\n",
       "              'General Motors',\n",
       "              'Harley-Davidson',\n",
       "              'Nike']})"
      ]
     },
     "execution_count": 13,
     "metadata": {},
     "output_type": "execute_result"
    }
   ],
   "source": [
    "get_companies_per_sector(top_companies)"
   ]
  },
  {
   "cell_type": "code",
   "execution_count": null,
   "id": "7dec3b72",
   "metadata": {},
   "outputs": [],
   "source": []
  }
 ],
 "metadata": {
  "kernelspec": {
   "display_name": "Python 3",
   "language": "python",
   "name": "python3"
  },
  "language_info": {
   "codemirror_mode": {
    "name": "ipython",
    "version": 3
   },
   "file_extension": ".py",
   "mimetype": "text/x-python",
   "name": "python",
   "nbconvert_exporter": "python",
   "pygments_lexer": "ipython3",
   "version": "3.7.10"
  }
 },
 "nbformat": 4,
 "nbformat_minor": 5
}
