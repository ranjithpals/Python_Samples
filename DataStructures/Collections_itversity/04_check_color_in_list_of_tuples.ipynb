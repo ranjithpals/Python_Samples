{
 "cells": [
  {
   "cell_type": "markdown",
   "id": "383a714d",
   "metadata": {},
   "source": [
    "## Check color in list of tuples\n",
    "Develop a function to check the element is present in a tuple. The function should check whether the color exists or not.\n",
    "* The input data is in the form of list. Each element in the list is of type tuple.\n",
    "* Each tuple contain multiple colors.\n",
    "* The function should take 2 arguments. The first argument is list of tuples which contain colors. The second argument is the color which you want to check.\n",
    "* If the color that is passed as second argument, exists in any of the tuples, then the function should return `True` else the function should return `false`.\n",
    "* The characters in the second argument might be passed in any case. However, we need to perform case insensitive search."
   ]
  },
  {
   "cell_type": "code",
   "execution_count": 1,
   "id": "d89d0627",
   "metadata": {},
   "outputs": [],
   "source": [
    "colors = [\n",
    "    ('Red', 'White', 'Blue'),\n",
    "    ('Green', 'Pink', 'Purple'),\n",
    "    ('Orange', 'Yellow', 'Lime')\n",
    "]"
   ]
  },
  {
   "cell_type": "markdown",
   "id": "04642a83",
   "metadata": {},
   "source": [
    "## Step 1: Preview the data\n",
    "* Let us first preview the data."
   ]
  },
  {
   "cell_type": "code",
   "execution_count": 2,
   "id": "450f6060",
   "metadata": {},
   "outputs": [
    {
     "data": {
      "text/plain": [
       "[('Red', 'White', 'Blue'),\n",
       " ('Green', 'Pink', 'Purple'),\n",
       " ('Orange', 'Yellow', 'Lime')]"
      ]
     },
     "execution_count": 2,
     "metadata": {},
     "output_type": "execute_result"
    }
   ],
   "source": [
    "colors"
   ]
  },
  {
   "cell_type": "code",
   "execution_count": 3,
   "id": "43aa9045",
   "metadata": {},
   "outputs": [
    {
     "data": {
      "text/plain": [
       "list"
      ]
     },
     "execution_count": 3,
     "metadata": {},
     "output_type": "execute_result"
    }
   ],
   "source": [
    "type(colors)"
   ]
  },
  {
   "cell_type": "code",
   "execution_count": 4,
   "id": "a275665b",
   "metadata": {},
   "outputs": [
    {
     "data": {
      "text/plain": [
       "3"
      ]
     },
     "execution_count": 4,
     "metadata": {},
     "output_type": "execute_result"
    }
   ],
   "source": [
    "len(colors)"
   ]
  },
  {
   "cell_type": "code",
   "execution_count": 5,
   "id": "6d24b37b",
   "metadata": {},
   "outputs": [
    {
     "name": "stdout",
     "output_type": "stream",
     "text": [
      "The type of the record ('Red', 'White', 'Blue') is <class 'tuple'>\n",
      "The type of the record ('Green', 'Pink', 'Purple') is <class 'tuple'>\n",
      "The type of the record ('Orange', 'Yellow', 'Lime') is <class 'tuple'>\n"
     ]
    }
   ],
   "source": [
    "for color in colors:\n",
    "    print(f'The type of the record {color} is {type(color)}')"
   ]
  },
  {
   "cell_type": "markdown",
   "id": "69af7dbb",
   "metadata": {},
   "source": [
    "## Step 2: Provide the solution\n",
    "Now come up with the solution by developing the required logic. Once the function is developed, go to the next step to take care of the validation."
   ]
  },
  {
   "cell_type": "code",
   "execution_count": 13,
   "id": "f79f1d23",
   "metadata": {},
   "outputs": [],
   "source": [
    "def check_in_tuples(colors, color):\n",
    "    # your code should go here\n",
    "    for clr in colors:\n",
    "        for c in clr:\n",
    "            if color.upper() == c.upper():\n",
    "                return True\n",
    "    return False"
   ]
  },
  {
   "cell_type": "markdown",
   "id": "27ee50e5",
   "metadata": {},
   "source": [
    "### Step 3: Validate the function\n",
    "\n",
    "* Here is the expected output."
   ]
  },
  {
   "cell_type": "code",
   "execution_count": 14,
   "id": "8a573475",
   "metadata": {},
   "outputs": [
    {
     "data": {
      "text/plain": [
       "True"
      ]
     },
     "execution_count": 14,
     "metadata": {},
     "output_type": "execute_result"
    }
   ],
   "source": [
    "check_in_tuples(colors, 'Red') # True"
   ]
  },
  {
   "cell_type": "code",
   "execution_count": 15,
   "id": "23954ef5",
   "metadata": {},
   "outputs": [
    {
     "data": {
      "text/plain": [
       "True"
      ]
     },
     "execution_count": 15,
     "metadata": {},
     "output_type": "execute_result"
    }
   ],
   "source": [
    "check_in_tuples(colors, 'red') # True"
   ]
  },
  {
   "cell_type": "code",
   "execution_count": 16,
   "id": "afb61c19",
   "metadata": {},
   "outputs": [
    {
     "data": {
      "text/plain": [
       "False"
      ]
     },
     "execution_count": 16,
     "metadata": {},
     "output_type": "execute_result"
    }
   ],
   "source": [
    "check_in_tuples(colors, 'Black') # False"
   ]
  },
  {
   "cell_type": "code",
   "execution_count": 17,
   "id": "d0da8e46",
   "metadata": {},
   "outputs": [
    {
     "data": {
      "text/plain": [
       "bool"
      ]
     },
     "execution_count": 17,
     "metadata": {},
     "output_type": "execute_result"
    }
   ],
   "source": [
    "type((check_in_tuples(colors, 'red'))) #It should be bool"
   ]
  },
  {
   "cell_type": "code",
   "execution_count": null,
   "id": "0508fbc3-39cd-4090-a8d8-0875d7f978e5",
   "metadata": {},
   "outputs": [],
   "source": []
  }
 ],
 "metadata": {
  "kernelspec": {
   "display_name": "Python 3",
   "language": "python",
   "name": "python3"
  },
  "language_info": {
   "codemirror_mode": {
    "name": "ipython",
    "version": 3
   },
   "file_extension": ".py",
   "mimetype": "text/x-python",
   "name": "python",
   "nbconvert_exporter": "python",
   "pygments_lexer": "ipython3",
   "version": "3.7.10"
  }
 },
 "nbformat": 4,
 "nbformat_minor": 5
}
